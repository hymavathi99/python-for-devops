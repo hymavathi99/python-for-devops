{
  "nbformat": 4,
  "nbformat_minor": 0,
  "metadata": {
    "colab": {
      "provenance": [],
      "toc_visible": true,
      "authorship_tag": "ABX9TyOsA6ZrzEWjRZfRL1rVs8Kz",
      "include_colab_link": true
    },
    "kernelspec": {
      "name": "python3",
      "display_name": "Python 3"
    },
    "language_info": {
      "name": "python"
    }
  },
  "cells": [
    {
      "cell_type": "markdown",
      "metadata": {
        "id": "view-in-github",
        "colab_type": "text"
      },
      "source": [
        "<a href=\"https://colab.research.google.com/github/hymavathi99/python-for-devops/blob/main/getting_started_python.ipynb\" target=\"_parent\"><img src=\"https://colab.research.google.com/assets/colab-badge.svg\" alt=\"Open In Colab\"/></a>"
      ]
    },
    {
      "cell_type": "markdown",
      "source": [
        "## Intro to python"
      ],
      "metadata": {
        "id": "CmcP7d6sqWTY"
      }
    },
    {
      "cell_type": "code",
      "execution_count": null,
      "metadata": {
        "id": "TdcBWoUTnfua"
      },
      "outputs": [],
      "source": []
    },
    {
      "cell_type": "markdown",
      "source": [
        "### Statements in python"
      ],
      "metadata": {
        "id": "lMVfOigPqdWF"
      }
    },
    {
      "cell_type": "code",
      "source": [
        "print(\"hello world\")"
      ],
      "metadata": {
        "colab": {
          "base_uri": "https://localhost:8080/"
        },
        "id": "vkzuzSj2qrFA",
        "outputId": "d3740126-66bb-444b-a909-190638fc3598"
      },
      "execution_count": 1,
      "outputs": [
        {
          "output_type": "stream",
          "name": "stdout",
          "text": [
            "hello world\n"
          ]
        }
      ]
    },
    {
      "cell_type": "code",
      "source": [
        "name=\"sup\"\n",
        "print(f\"hello {name}\")"
      ],
      "metadata": {
        "colab": {
          "base_uri": "https://localhost:8080/"
        },
        "id": "Li02232Xq4it",
        "outputId": "48d234df-cbf7-4f0b-f995-6659f5767044"
      },
      "execution_count": 2,
      "outputs": [
        {
          "output_type": "stream",
          "name": "stdout",
          "text": [
            "hello sup\n"
          ]
        }
      ]
    },
    {
      "cell_type": "markdown",
      "source": [
        "### Datastructures: Lists and Dictionaries\n"
      ],
      "metadata": {
        "id": "s2q3Soq0r7IS"
      }
    },
    {
      "cell_type": "markdown",
      "source": [
        "#### Lists\n"
      ],
      "metadata": {
        "id": "Fz1JfNTPyJQe"
      }
    },
    {
      "cell_type": "code",
      "source": [
        "fruits=[\"apple\",\"orange\",\"pineapple\"]"
      ],
      "metadata": {
        "id": "A1j6StUHsBH4"
      },
      "execution_count": 4,
      "outputs": []
    },
    {
      "cell_type": "code",
      "source": [
        "type(fruits)"
      ],
      "metadata": {
        "colab": {
          "base_uri": "https://localhost:8080/"
        },
        "id": "v2s9bBw4sXYT",
        "outputId": "f24d772f-6d1c-4716-a593-b7a2413c2c9a"
      },
      "execution_count": 5,
      "outputs": [
        {
          "output_type": "execute_result",
          "data": {
            "text/plain": [
              "list"
            ]
          },
          "metadata": {},
          "execution_count": 5
        }
      ]
    },
    {
      "cell_type": "code",
      "source": [
        "fruits[0]"
      ],
      "metadata": {
        "colab": {
          "base_uri": "https://localhost:8080/",
          "height": 36
        },
        "id": "hXfHgInmsf0c",
        "outputId": "c37e4255-f729-47e5-ff1d-843fed29793f"
      },
      "execution_count": 6,
      "outputs": [
        {
          "output_type": "execute_result",
          "data": {
            "text/plain": [
              "'apple'"
            ],
            "application/vnd.google.colaboratory.intrinsic+json": {
              "type": "string"
            }
          },
          "metadata": {},
          "execution_count": 6
        }
      ]
    },
    {
      "cell_type": "code",
      "source": [
        "fruits[-1]"
      ],
      "metadata": {
        "colab": {
          "base_uri": "https://localhost:8080/",
          "height": 36
        },
        "id": "2qucIYGgsk0Q",
        "outputId": "9464862c-e838-48f6-8129-070e162f645f"
      },
      "execution_count": 7,
      "outputs": [
        {
          "output_type": "execute_result",
          "data": {
            "text/plain": [
              "'pineapple'"
            ],
            "application/vnd.google.colaboratory.intrinsic+json": {
              "type": "string"
            }
          },
          "metadata": {},
          "execution_count": 7
        }
      ]
    },
    {
      "cell_type": "code",
      "source": [
        "fruits[:-1]"
      ],
      "metadata": {
        "colab": {
          "base_uri": "https://localhost:8080/"
        },
        "id": "-yityzx2xjgi",
        "outputId": "4b2f220b-0110-41cd-e30f-865aa9fd090f"
      },
      "execution_count": 8,
      "outputs": [
        {
          "output_type": "execute_result",
          "data": {
            "text/plain": [
              "['apple', 'orange']"
            ]
          },
          "metadata": {},
          "execution_count": 8
        }
      ]
    },
    {
      "cell_type": "code",
      "source": [
        "for fruit in fruits:\n",
        "  print(f\"this is my fav fruit {fruit}\")"
      ],
      "metadata": {
        "colab": {
          "base_uri": "https://localhost:8080/"
        },
        "id": "z6g9RwRUxqLU",
        "outputId": "462702f8-75cc-40e1-eee1-9d2d704fe84d"
      },
      "execution_count": 9,
      "outputs": [
        {
          "output_type": "stream",
          "name": "stdout",
          "text": [
            "this is my fav fruit apple\n",
            "this is my fav fruit orange\n",
            "this is my fav fruit pineapple\n"
          ]
        }
      ]
    },
    {
      "cell_type": "markdown",
      "source": [
        "#### Dictionary\n"
      ],
      "metadata": {
        "id": "i9uU_KwcySwa"
      }
    },
    {
      "cell_type": "code",
      "source": [
        "meal={\"breakfast\":\"coffee\", \"lunch\":\"rice\", \"dinner\": \"chapati\"}"
      ],
      "metadata": {
        "id": "JkNn2Ma-yWn4"
      },
      "execution_count": 10,
      "outputs": []
    },
    {
      "cell_type": "code",
      "source": [
        "meal.keys()\n"
      ],
      "metadata": {
        "colab": {
          "base_uri": "https://localhost:8080/"
        },
        "id": "ZGMC-Z-pyon5",
        "outputId": "7b19ed27-c3b7-41ea-eff7-97416ed7a6a6"
      },
      "execution_count": 12,
      "outputs": [
        {
          "output_type": "execute_result",
          "data": {
            "text/plain": [
              "dict_keys(['breakfast', 'lunch', 'dinner'])"
            ]
          },
          "metadata": {},
          "execution_count": 12
        }
      ]
    },
    {
      "cell_type": "code",
      "source": [
        "meal.values()"
      ],
      "metadata": {
        "colab": {
          "base_uri": "https://localhost:8080/"
        },
        "id": "aVFalnZQyvvZ",
        "outputId": "453aa68b-bb20-4c96-f79a-cb282efd720c"
      },
      "execution_count": 13,
      "outputs": [
        {
          "output_type": "execute_result",
          "data": {
            "text/plain": [
              "dict_values(['coffee', 'rice', 'chapati'])"
            ]
          },
          "metadata": {},
          "execution_count": 13
        }
      ]
    },
    {
      "cell_type": "code",
      "source": [
        "for meal_name, meal_item in meal.items():\n",
        "  print(f\"This meal {meal_name} is when I like to consume {meal_item}\")"
      ],
      "metadata": {
        "colab": {
          "base_uri": "https://localhost:8080/"
        },
        "id": "64hyF4tVy24u",
        "outputId": "078da2a0-3574-4da1-976e-b884185601fb"
      },
      "execution_count": 14,
      "outputs": [
        {
          "output_type": "stream",
          "name": "stdout",
          "text": [
            "This meal breakfast is when I like to consume coffee\n",
            "This meal lunch is when I like to consume rice\n",
            "This meal dinner is when I like to consume chapati\n"
          ]
        }
      ]
    }
  ]
}